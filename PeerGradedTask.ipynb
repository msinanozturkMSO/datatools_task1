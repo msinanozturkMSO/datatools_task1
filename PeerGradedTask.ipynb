{
  "metadata": {
    "language_info": {
      "codemirror_mode": {
        "name": "python",
        "version": 3
      },
      "file_extension": ".py",
      "mimetype": "text/x-python",
      "name": "python",
      "nbconvert_exporter": "python",
      "pygments_lexer": "ipython3",
      "version": "3.8"
    },
    "kernelspec": {
      "name": "python",
      "display_name": "Python (Pyodide)",
      "language": "python"
    }
  },
  "nbformat_minor": 4,
  "nbformat": 4,
  "cells": [
    {
      "cell_type": "markdown",
      "source": "# Exercise 2: Open Source Tools For Data Science Peer Graded Assignment",
      "metadata": {}
    },
    {
      "cell_type": "markdown",
      "source": "## Data Science Tools and Ecosystem\n---",
      "metadata": {}
    },
    {
      "cell_type": "markdown",
      "source": "#### In this notebook, Data Science Tools and Ecosystem are summarized.",
      "metadata": {}
    },
    {
      "cell_type": "markdown",
      "source": "### Some of the popular languages that Data Scientists use are\n\n---\n\n1. Python\n2. R\n3. SQL\n4. Scala\n5. Java\n6. C++\n7. Julia\n8. JavaScript\n9. PHP\n10. Go\n11. Ruby\n12. Visual Basic",
      "metadata": {}
    },
    {
      "cell_type": "markdown",
      "source": "### Some of the commonly used libraries used by Data Scientists include\n---\n1. Pandas\n2. Numpy\n3. Matplotlib\n4. Seaborn\n5. Scikit-learn\n6. Keras\n7. TensorFlow\n8. PyTorch\n9. Apache Spark\n10. Vegas\n11. Big DL\n12. Ggplot2",
      "metadata": {}
    },
    {
      "cell_type": "markdown",
      "source": "### Data Science Tools Table\n---\n\n| Tool           | Description                             |\n| -------------- | --------------------------------------- |\n| Jupyter Notebook| Interactive computing and data analysis |\n| VS Code        | Integrated development environment (IDE)|\n| Tableau        | Data visualization and business analytics|\n| Docker         | Containerization platform               |\n| Git            | Version control system                  |\n| D3.js          | JavaScript library for data visualization|",
      "metadata": {}
    },
    {
      "cell_type": "markdown",
      "source": "### Arithmetic Expression Examples\n---\n\nIn this section, we will explore examples of arithmetic expressions to demonstrate basic mathematical operations.",
      "metadata": {}
    },
    {
      "cell_type": "markdown",
      "source": "### Multiplication and Addition\n---",
      "metadata": {}
    },
    {
      "cell_type": "code",
      "source": "# This is the example for multiplication operation using codes and operators\nresult_multiply = 5 * 10\nprint(\"Multiplication Result:\", result_multiply)\n\n# This is the example for addition operation using codes and operators\nresult_addition = 15 + 20\nprint(\"Addition Result:\", result_addition)",
      "metadata": {
        "trusted": true
      },
      "execution_count": 5,
      "outputs": [
        {
          "name": "stdout",
          "text": "Multiplication Result: 50\nAddition Result: 35\n",
          "output_type": "stream"
        }
      ]
    },
    {
      "cell_type": "markdown",
      "source": "### Conversion Minutes to Hours\n---",
      "metadata": {}
    },
    {
      "cell_type": "code",
      "source": "# This is an example for conversion of minutes to hours\n# The function for converting minutes to hours - it can be repeatedly used\ndef convert_minutes_to_hours(minutes):\n    hours = minutes / 60\n    return hours\n\n# Example usage of the function to convert ninutes to hours\nminutes_value = 210\nhours_result = convert_minutes_to_hours(minutes_value)\nprint(f\"{minutes_value} minutes is equal to {hours_result:.2f} hours.\")",
      "metadata": {
        "trusted": true
      },
      "execution_count": 6,
      "outputs": [
        {
          "name": "stdout",
          "text": "210 minutes is equal to 3.50 hours.\n",
          "output_type": "stream"
        }
      ]
    },
    {
      "cell_type": "markdown",
      "source": "## Objectives\n---\n\n* Understand the fundamentals of data science languages and libraries. \n* Explore various data science tools for analysis and visualization. \n* Apply basic arithmetic operations and conversions in Python.",
      "metadata": {}
    },
    {
      "cell_type": "markdown",
      "source": "## Author\n--- \n#### Mehmet Sinan Ozturk",
      "metadata": {}
    },
    {
      "cell_type": "code",
      "source": "",
      "metadata": {},
      "execution_count": null,
      "outputs": []
    }
  ]
}