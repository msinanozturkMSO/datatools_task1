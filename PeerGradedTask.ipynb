{
  "metadata": {
    "language_info": {
      "codemirror_mode": {
        "name": "python",
        "version": 3
      },
      "file_extension": ".py",
      "mimetype": "text/x-python",
      "name": "python",
      "nbconvert_exporter": "python",
      "pygments_lexer": "ipython3",
      "version": "3.8"
    },
    "kernelspec": {
      "name": "python",
      "display_name": "Python (Pyodide)",
      "language": "python"
    }
  },
  "nbformat_minor": 4,
  "nbformat": 4,
  "cells": [
    {
      "cell_type": "markdown",
      "source": "# Exercise 2: Open Source Tools For Data Science Peer Graded Assignment",
      "metadata": {}
    },
    {
      "cell_type": "markdown",
      "source": "## Exercise 3: Introduction to Jupyter for Data Science with Mehmet Sinan Ozturk",
      "metadata": {}
    },
    {
      "cell_type": "markdown",
      "source": "##### Welcome to this Data Science Notebook guided by Mehmet Sinan Ozturk. In this notebook, we will explore basic concepts using Jupyter in data science, using markdown and coding with programming languages for simple arithmetic operations.",
      "metadata": {}
    },
    {
      "cell_type": "markdown",
      "source": "##### Exercise 4: Data Science Languages\n---\n\n- Python\n- R\n- SQL\n- Julia\n- Scala",
      "metadata": {}
    },
    {
      "cell_type": "markdown",
      "source": "##### Exercise 5: Data Science Libraries\n---\n\n- NumPy\n- Pandas\n- Matplotlib\n- Seaborn\n- Scikit-learn\n- TensorFlow\n- PyTorch",
      "metadata": {}
    },
    {
      "cell_type": "markdown",
      "source": "##### Exercise 6: Data Science Tools Table\n---\n\n| Tool           | Description                             |\n| -------------- | --------------------------------------- |\n| Jupyter Notebook| Interactive computing and data analysis |\n| VS Code        | Integrated development environment (IDE)|\n| Tableau        | Data visualization and business analytics|\n| Docker         | Containerization platform               |\n| Git            | Version control system                  |\n| D3.js          | JavaScript library for data visualization|",
      "metadata": {}
    },
    {
      "cell_type": "markdown",
      "source": "##### Exercise 7: Arithmetic Expression Examples\n---\n\nIn this section, we will explore examples of arithmetic expressions to demonstrate basic mathematical operations.",
      "metadata": {}
    },
    {
      "cell_type": "markdown",
      "source": "##### Exercise 8: Multiplication and Addition\n---",
      "metadata": {}
    },
    {
      "cell_type": "code",
      "source": "# Multiplication\nresult_multiply = 5 * 10\nprint(\"Multiplication Result:\", result_multiply)\n\n# Addition\nresult_addition = 15 + 20\nprint(\"Addition Result:\", result_addition)",
      "metadata": {
        "trusted": true
      },
      "execution_count": 4,
      "outputs": [
        {
          "name": "stdout",
          "text": "Multiplication Result: 50\nAddition Result: 35\n",
          "output_type": "stream"
        }
      ]
    },
    {
      "cell_type": "code",
      "source": "# Conversion of minutes to hours\ndef convert_minutes_to_hours(minutes):\n    hours = minutes / 60\n    return hours\n\n# Example usage\nminutes_value = 210\nhours_result = convert_minutes_to_hours(minutes_value)\nprint(f\"{minutes_value} minutes is equal to {hours_result:.2f} hours.\")",
      "metadata": {
        "trusted": true
      },
      "execution_count": 6,
      "outputs": [
        {
          "name": "stdout",
          "text": "210 minutes is equal to 3.50 hours.\n",
          "output_type": "stream"
        }
      ]
    },
    {
      "cell_type": "markdown",
      "source": "##### Exercise 10: Objectives\nUnderstand the fundamentals of data science languages and libraries.\nExplore various data science tools for analysis and visualization.\nApply basic arithmetic operations and conversions in Python.",
      "metadata": {}
    },
    {
      "cell_type": "markdown",
      "source": "#### Exercise 11: Author\nAuthor: Mehmet Sinan Ozturk",
      "metadata": {}
    },
    {
      "cell_type": "code",
      "source": "",
      "metadata": {},
      "execution_count": null,
      "outputs": []
    }
  ]
}